{
 "cells": [
  {
   "cell_type": "code",
   "execution_count": 1,
   "metadata": {},
   "outputs": [],
   "source": [
    "import warnings\n",
    "warnings.filterwarnings(\"ignore\")\n",
    "\n",
    "from nilearn import datasets # Fetch data using nilearn\n",
    "adhd = datasets.fetch_adhd(n_subjects=10)          # ADHD200 preprocessed data (Athena pipeline)"
   ]
  },
  {
   "cell_type": "code",
   "execution_count": 2,
   "metadata": {},
   "outputs": [
    {
     "data": {
      "text/plain": [
       "'/home/jovyan/nilearn_data/adhd/data/0010042/0010042_rest_tshift_RPI_voreg_mni.nii.gz'"
      ]
     },
     "execution_count": 2,
     "metadata": {},
     "output_type": "execute_result"
    }
   ],
   "source": [
    "adhd.func[0]"
   ]
  },
  {
   "cell_type": "code",
   "execution_count": 3,
   "metadata": {},
   "outputs": [],
   "source": [
    "# Load voxel-level data - a brain mask is automatically computed\n",
    "from nilearn import plotting, input_data\n",
    "masker_voxel = input_data.NiftiMasker(detrend=True, standardize=True, smoothing_fwhm=5).fit(adhd.func)\n",
    "tseries_voxel = []\n",
    "for mm in range(10):\n",
    "    tseries_voxel.append(masker_voxel.transform(adhd.func[mm]))"
   ]
  },
  {
   "cell_type": "code",
   "execution_count": 4,
   "metadata": {},
   "outputs": [
    {
     "name": "stdout",
     "output_type": "stream",
     "text": [
      "Time series with shape (176, 85878) (# time points, # voxels))\n",
      "Time series with shape (176, 85878) (# time points, # voxels))\n",
      "Time series with shape (176, 85878) (# time points, # voxels))\n",
      "Time series with shape (175, 85878) (# time points, # voxels))\n",
      "Time series with shape (77, 85878) (# time points, # voxels))\n",
      "Time series with shape (77, 85878) (# time points, # voxels))\n",
      "Time series with shape (261, 85878) (# time points, # voxels))\n",
      "Time series with shape (260, 85878) (# time points, # voxels))\n",
      "Time series with shape (260, 85878) (# time points, # voxels))\n",
      "Time series with shape (261, 85878) (# time points, # voxels))\n"
     ]
    }
   ],
   "source": [
    "for mm in range(10):\n",
    "    print(f\"Time series with shape {tseries_voxel[mm].shape} (# time points, # voxels))\")"
   ]
  },
  {
   "cell_type": "code",
   "execution_count": 5,
   "metadata": {},
   "outputs": [
    {
     "name": "stdout",
     "output_type": "stream",
     "text": [
      "4.999941777870938\n",
      "4.999941777870934\n",
      "4.999941777870941\n",
      "4.999941777870936\n",
      "4.999941777870937\n",
      "4.999941777870937\n",
      "4.9999417778709345\n",
      "4.999941777870938\n",
      "4.9999417778709345\n",
      "4.999941777870939\n",
      "4.9999417778709345\n",
      "4.999941777870939\n",
      "4.999941777870937\n",
      "4.99994177787094\n",
      "4.99994177787094\n",
      "4.999941777870938\n",
      "4.999941777870934\n",
      "4.99994177787094\n",
      "4.999941777870936\n",
      "4.999941777870935\n"
     ]
    }
   ],
   "source": [
    "K = 20\n",
    "Y = tseries_voxel\n",
    "\n",
    "import numpy as np\n",
    "from scipy.special import gamma\n",
    "\n",
    "JE = 0 \n",
    "    \n",
    "beta_ = np.ones(K)\n",
    "eta_ = np.ones(K)\n",
    "lambda_ = 0.5*np.ones(K)\n",
    "nu_ = (2*eta_ + len(Y) - 2)/(2*beta_)\n",
    "a_ = (lambda_**(-1/beta_) * gamma(nu_ + 1/beta_)) / (len(Y) * gamma(nu_))\n",
    "\n",
    "_, N = Y[0].shape\n",
    "\n",
    "for kk in range(K):\n",
    "    y_sub = np.zeros((len(Y),N))\n",
    "    tot = 0\n",
    "    for mm in range(len(Y)):\n",
    "        ix = tot + 1\n",
    "        y_sub[ix-1,:] = Y[mm][kk,:]\n",
    "        tot = tot + 1\n",
    "\n",
    "    D, t1 = np.linalg.eig(y_sub @ y_sub.T)\n",
    "    A = ((t1 * (1 / D[None,:])) @ t1.T) @ y_sub\n",
    "    z_k = np.sum(y_sub * A, axis=0)\n",
    "    z_k_beta = z_k**beta_[kk]\n",
    "    print((lambda_[kk] * (((N-1)*a_[kk])**beta_[kk])/N) * np.sum(z_k_beta))\n",
    "\n",
    "    JE = JE + (lambda_[kk] * (((N-1)*a_[kk])**beta_[kk])/N) * np.sum(z_k_beta)\n"
   ]
  },
  {
   "cell_type": "code",
   "execution_count": 6,
   "metadata": {},
   "outputs": [
    {
     "data": {
      "text/plain": [
       "99.99883555741874"
      ]
     },
     "execution_count": 6,
     "metadata": {},
     "output_type": "execute_result"
    }
   ],
   "source": [
    "JE"
   ]
  },
  {
   "cell_type": "code",
   "execution_count": 9,
   "metadata": {},
   "outputs": [],
   "source": [
    "import mdf"
   ]
  },
  {
   "cell_type": "code",
   "execution_count": 10,
   "metadata": {},
   "outputs": [
    {
     "name": "stdout",
     "output_type": "stream",
     "text": [
      "4.999941777870938\n",
      "4.999941777870934\n",
      "4.999941777870941\n",
      "4.999941777870936\n",
      "4.999941777870937\n",
      "4.999941777870937\n",
      "4.9999417778709345\n",
      "4.999941777870938\n",
      "4.9999417778709345\n",
      "4.999941777870939\n",
      "4.9999417778709345\n",
      "4.999941777870939\n",
      "4.999941777870937\n",
      "4.99994177787094\n",
      "4.99994177787094\n",
      "4.999941777870938\n",
      "4.999941777870934\n",
      "4.99994177787094\n",
      "4.999941777870936\n",
      "4.999941777870935\n"
     ]
    },
    {
     "data": {
      "text/plain": [
       "99.99883555741874"
      ]
     },
     "execution_count": 10,
     "metadata": {},
     "output_type": "execute_result"
    }
   ],
   "source": [
    "JE = 0\n",
    "mdf.mdf(tseries_voxel,K)"
   ]
  },
  {
   "cell_type": "code",
   "execution_count": 11,
   "metadata": {},
   "outputs": [],
   "source": [
    "ncores=32\n",
    "memory_limit='64GB'\n",
    "n_workers=11\n",
    "processes=False\n",
    "from dask.distributed import Client, LocalCluster\n",
    "cluster = LocalCluster(ncores=32,memory_limit='64GB',n_workers=11,processes=False)\n",
    "client = Client(cluster)"
   ]
  },
  {
   "cell_type": "code",
   "execution_count": 12,
   "metadata": {},
   "outputs": [
    {
     "data": {
      "text/html": [
       "<table style=\"border: 2px solid white;\">\n",
       "<tr>\n",
       "<td style=\"vertical-align: top; border: 0px solid white\">\n",
       "<h3 style=\"text-align: left;\">Client</h3>\n",
       "<ul style=\"text-align: left; list-style: none; margin: 0; padding: 0;\">\n",
       "  <li><b>Scheduler: </b>inproc://10.64.0.247/315/1</li>\n",
       "  <li><b>Dashboard: </b><a href='http://10.64.0.247:8787/status' target='_blank'>http://10.64.0.247:8787/status</a></li>\n",
       "</ul>\n",
       "</td>\n",
       "<td style=\"vertical-align: top; border: 0px solid white\">\n",
       "<h3 style=\"text-align: left;\">Cluster</h3>\n",
       "<ul style=\"text-align: left; list-style:none; margin: 0; padding: 0;\">\n",
       "  <li><b>Workers: </b>11</li>\n",
       "  <li><b>Cores: </b>352</li>\n",
       "  <li><b>Memory: </b>704.00 GB</li>\n",
       "</ul>\n",
       "</td>\n",
       "</tr>\n",
       "</table>"
      ],
      "text/plain": [
       "<Client: 'inproc://10.64.0.247/315/1' processes=11 threads=352, memory=704.00 GB>"
      ]
     },
     "execution_count": 12,
     "metadata": {},
     "output_type": "execute_result"
    }
   ],
   "source": [
    "client"
   ]
  },
  {
   "cell_type": "code",
   "execution_count": null,
   "metadata": {},
   "outputs": [],
   "source": []
  }
 ],
 "metadata": {
  "kernelspec": {
   "display_name": "Python 3",
   "language": "python",
   "name": "python3"
  },
  "language_info": {
   "codemirror_mode": {
    "name": "ipython",
    "version": 3
   },
   "file_extension": ".py",
   "mimetype": "text/x-python",
   "name": "python",
   "nbconvert_exporter": "python",
   "pygments_lexer": "ipython3",
   "version": "3.7.8"
  }
 },
 "nbformat": 4,
 "nbformat_minor": 4
}
