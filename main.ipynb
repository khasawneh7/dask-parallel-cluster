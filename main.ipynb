{
 "cells": [
  {
   "cell_type": "code",
   "execution_count": 1,
   "metadata": {},
   "outputs": [],
   "source": [
    "import warnings\n",
    "warnings.filterwarnings(\"ignore\")\n",
    "\n",
    "from nilearn import datasets # Fetch data using nilearn\n",
    "adhd = datasets.fetch_adhd(n_subjects=10)          # ADHD200 preprocessed data (Athena pipeline)"
   ]
  },
  {
   "cell_type": "code",
   "execution_count": 2,
   "metadata": {},
   "outputs": [
    {
     "data": {
      "text/plain": [
       "'/home/jovyan/nilearn_data/adhd/data/0010042/0010042_rest_tshift_RPI_voreg_mni.nii.gz'"
      ]
     },
     "execution_count": 2,
     "metadata": {},
     "output_type": "execute_result"
    }
   ],
   "source": [
    "adhd.func[0]"
   ]
  },
  {
   "cell_type": "code",
   "execution_count": 3,
   "metadata": {},
   "outputs": [],
   "source": [
    "# Load voxel-level data - a brain mask is automatically computed\n",
    "from nilearn import plotting, input_data\n",
    "masker_voxel = input_data.NiftiMasker(detrend=True, standardize=True, smoothing_fwhm=5).fit(adhd.func)\n",
    "tseries_voxel = []\n",
    "for mm in range(10):\n",
    "    tseries_voxel.append(masker_voxel.transform(adhd.func[mm]))"
   ]
  },
  {
   "cell_type": "code",
   "execution_count": 4,
   "metadata": {},
   "outputs": [
    {
     "name": "stdout",
     "output_type": "stream",
     "text": [
      "Time series with shape (176, 85878) (# time points, # voxels))\n",
      "Time series with shape (176, 85878) (# time points, # voxels))\n",
      "Time series with shape (176, 85878) (# time points, # voxels))\n",
      "Time series with shape (175, 85878) (# time points, # voxels))\n",
      "Time series with shape (77, 85878) (# time points, # voxels))\n",
      "Time series with shape (77, 85878) (# time points, # voxels))\n",
      "Time series with shape (261, 85878) (# time points, # voxels))\n",
      "Time series with shape (260, 85878) (# time points, # voxels))\n",
      "Time series with shape (260, 85878) (# time points, # voxels))\n",
      "Time series with shape (261, 85878) (# time points, # voxels))\n"
     ]
    }
   ],
   "source": [
    "for mm in range(10):\n",
    "    print(f\"Time series with shape {tseries_voxel[mm].shape} (# time points, # voxels))\")"
   ]
  },
  {
   "cell_type": "code",
   "execution_count": 7,
   "metadata": {},
   "outputs": [
    {
     "data": {
      "text/plain": [
       "85878"
      ]
     },
     "execution_count": 7,
     "metadata": {},
     "output_type": "execute_result"
    }
   ],
   "source": [
    "_, N = tseries_voxel[0].shape\n",
    "N"
   ]
  },
  {
   "cell_type": "code",
   "execution_count": null,
   "metadata": {},
   "outputs": [],
   "source": []
  }
 ],
 "metadata": {
  "kernelspec": {
   "display_name": "Python 3",
   "language": "python",
   "name": "python3"
  },
  "language_info": {
   "codemirror_mode": {
    "name": "ipython",
    "version": 3
   },
   "file_extension": ".py",
   "mimetype": "text/x-python",
   "name": "python",
   "nbconvert_exporter": "python",
   "pygments_lexer": "ipython3",
   "version": "3.7.8"
  }
 },
 "nbformat": 4,
 "nbformat_minor": 4
}
