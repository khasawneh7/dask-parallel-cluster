{
 "cells": [
  {
   "cell_type": "code",
   "execution_count": 1,
   "metadata": {},
   "outputs": [],
   "source": [
    "import warnings\n",
    "warnings.filterwarnings(\"ignore\")\n",
    "\n",
    "from nilearn import datasets # Fetch data using nilearn\n",
    "adhd = datasets.fetch_adhd(n_subjects=10)          # ADHD200 preprocessed data (Athena pipeline)"
   ]
  },
  {
   "cell_type": "code",
   "execution_count": 2,
   "metadata": {},
   "outputs": [
    {
     "data": {
      "text/plain": [
       "'/home/jovyan/nilearn_data/adhd/data/0010042/0010042_rest_tshift_RPI_voreg_mni.nii.gz'"
      ]
     },
     "execution_count": 2,
     "metadata": {},
     "output_type": "execute_result"
    }
   ],
   "source": [
    "adhd.func[0]"
   ]
  },
  {
   "cell_type": "code",
   "execution_count": 3,
   "metadata": {},
   "outputs": [],
   "source": [
    "# Load voxel-level data - a brain mask is automatically computed\n",
    "from nilearn import plotting, input_data\n",
    "masker_voxel = input_data.NiftiMasker(detrend=True, standardize=True, smoothing_fwhm=5).fit(adhd.func)\n",
    "tseries_voxel = []\n",
    "for mm in range(10):\n",
    "    tseries_voxel.append(masker_voxel.transform(adhd.func[mm]))"
   ]
  },
  {
   "cell_type": "code",
   "execution_count": 4,
   "metadata": {},
   "outputs": [
    {
     "name": "stdout",
     "output_type": "stream",
     "text": [
      "Time series with shape (176, 85878) (# time points, # voxels))\n",
      "Time series with shape (176, 85878) (# time points, # voxels))\n",
      "Time series with shape (176, 85878) (# time points, # voxels))\n",
      "Time series with shape (175, 85878) (# time points, # voxels))\n",
      "Time series with shape (77, 85878) (# time points, # voxels))\n",
      "Time series with shape (77, 85878) (# time points, # voxels))\n",
      "Time series with shape (261, 85878) (# time points, # voxels))\n",
      "Time series with shape (260, 85878) (# time points, # voxels))\n",
      "Time series with shape (260, 85878) (# time points, # voxels))\n",
      "Time series with shape (261, 85878) (# time points, # voxels))\n"
     ]
    }
   ],
   "source": [
    "for mm in range(10):\n",
    "    print(f\"Time series with shape {tseries_voxel[mm].shape} (# time points, # voxels))\")"
   ]
  },
  {
   "cell_type": "code",
   "execution_count": 47,
   "metadata": {},
   "outputs": [],
   "source": [
    "_, N = tseries_voxel[0].shape\n",
    "K = 20\n",
    "Y = tseries_voxel\n",
    "import numpy as np\n",
    "\n",
    "beta_ = np.ones(K);\n",
    "eta_ = np.ones(K)\n",
    "lambda_ = 0.5*np.ones(K)\n",
    "\n",
    "y_sub = np.zeros((len(Y),N))\n",
    "tot = 0\n",
    "for mm in range(len(Y)):\n",
    "    ix = tot + 1\n",
    "    y_sub[ix-1,:] = Y[mm][kk,:]\n",
    "    tot = tot + 1\n",
    "    \n",
    "    D, t1 = np.linalg.eig(y_sub @ y_sub.T)\n",
    "    A = ((t1 * (1 / D[None,:])) @ t1.T) @ y_sub\n",
    "    z_k = np.sum(y_sub * A, axis=0)\n",
    "    z_k_beta = z_k**beta_[kk]\n"
   ]
  },
  {
   "cell_type": "code",
   "execution_count": 50,
   "metadata": {},
   "outputs": [
    {
     "data": {
      "text/plain": [
       "(1, 85878)"
      ]
     },
     "execution_count": 50,
     "metadata": {},
     "output_type": "execute_result"
    }
   ],
   "source": [
    "z_k_beta[None,:].shape"
   ]
  },
  {
   "cell_type": "code",
   "execution_count": 13,
   "metadata": {},
   "outputs": [
    {
     "ename": "SyntaxError",
     "evalue": "illegal target for annotation (<ipython-input-13-fb572e210018>, line 1)",
     "output_type": "error",
     "traceback": [
      "\u001b[0;36m  File \u001b[0;32m\"<ipython-input-13-fb572e210018>\"\u001b[0;36m, line \u001b[0;32m1\u001b[0m\n\u001b[0;31m    1:10\u001b[0m\n\u001b[0m        ^\u001b[0m\n\u001b[0;31mSyntaxError\u001b[0m\u001b[0;31m:\u001b[0m illegal target for annotation\n"
     ]
    }
   ],
   "source": [
    "1"
   ]
  },
  {
   "cell_type": "code",
   "execution_count": null,
   "metadata": {},
   "outputs": [],
   "source": []
  }
 ],
 "metadata": {
  "kernelspec": {
   "display_name": "Python 3",
   "language": "python",
   "name": "python3"
  },
  "language_info": {
   "codemirror_mode": {
    "name": "ipython",
    "version": 3
   },
   "file_extension": ".py",
   "mimetype": "text/x-python",
   "name": "python",
   "nbconvert_exporter": "python",
   "pygments_lexer": "ipython3",
   "version": "3.7.8"
  }
 },
 "nbformat": 4,
 "nbformat_minor": 4
}
