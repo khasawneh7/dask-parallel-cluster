{
 "cells": [
  {
   "cell_type": "code",
   "execution_count": 1,
   "metadata": {},
   "outputs": [],
   "source": [
    "import warnings\n",
    "warnings.filterwarnings(\"ignore\")\n",
    "\n",
    "from nilearn import datasets # Fetch data using nilearn\n",
    "adhd = datasets.fetch_adhd(n_subjects=10)          # ADHD200 preprocessed data (Athena pipeline)"
   ]
  },
  {
   "cell_type": "code",
   "execution_count": 2,
   "metadata": {},
   "outputs": [
    {
     "data": {
      "text/plain": [
       "'/home/jovyan/nilearn_data/adhd/data/0010042/0010042_rest_tshift_RPI_voreg_mni.nii.gz'"
      ]
     },
     "execution_count": 2,
     "metadata": {},
     "output_type": "execute_result"
    }
   ],
   "source": [
    "adhd.func[0]"
   ]
  },
  {
   "cell_type": "code",
   "execution_count": 3,
   "metadata": {},
   "outputs": [],
   "source": [
    "# Load voxel-level data - a brain mask is automatically computed\n",
    "from nilearn import plotting, input_data\n",
    "masker_voxel = input_data.NiftiMasker(detrend=True, standardize=True, smoothing_fwhm=5).fit(adhd.func)\n",
    "tseries_voxel = []\n",
    "for mm in range(10):\n",
    "    tseries_voxel.append(masker_voxel.transform(adhd.func[mm]))"
   ]
  },
  {
   "cell_type": "code",
   "execution_count": 4,
   "metadata": {},
   "outputs": [
    {
     "name": "stdout",
     "output_type": "stream",
     "text": [
      "Time series with shape (176, 85878) (# time points, # voxels))\n",
      "Time series with shape (176, 85878) (# time points, # voxels))\n",
      "Time series with shape (176, 85878) (# time points, # voxels))\n",
      "Time series with shape (175, 85878) (# time points, # voxels))\n",
      "Time series with shape (77, 85878) (# time points, # voxels))\n",
      "Time series with shape (77, 85878) (# time points, # voxels))\n",
      "Time series with shape (261, 85878) (# time points, # voxels))\n",
      "Time series with shape (260, 85878) (# time points, # voxels))\n",
      "Time series with shape (260, 85878) (# time points, # voxels))\n",
      "Time series with shape (261, 85878) (# time points, # voxels))\n"
     ]
    }
   ],
   "source": [
    "for mm in range(10):\n",
    "    print(f\"Time series with shape {tseries_voxel[mm].shape} (# time points, # voxels))\")"
   ]
  },
  {
   "cell_type": "code",
   "execution_count": 75,
   "metadata": {},
   "outputs": [],
   "source": [
    "_, N = tseries_voxel[0].shape\n",
    "K = 20\n",
    "Y = tseries_voxel\n",
    "import numpy as np\n",
    "from scipy.special import gamma\n",
    "\n",
    "JE = 0;\n",
    "\n",
    "beta_ = np.ones(K)\n",
    "eta_ = np.ones(K)\n",
    "lambda_ = 0.5*np.ones(K)\n",
    "nu_ = (2*eta_ + len(Y) - 2)/(2*beta_)\n",
    "a_ = (lambda_**(-1/beta_) * gamma(nu_ + 1/beta_)) / (len(Y) * gamma(nu_))\n",
    "\n",
    "for kk in range(K):\n",
    "    y_sub = np.zeros((len(Y),N))\n",
    "    tot = 0\n",
    "    for mm in range(len(Y)):\n",
    "        ix = tot + 1\n",
    "        y_sub[ix-1,:] = Y[mm][kk,:]\n",
    "        tot = tot + 1\n",
    "\n",
    "    D, t1 = np.linalg.eig(y_sub @ y_sub.T)\n",
    "    A = ((t1 * (1 / D[None,:])) @ t1.T) @ y_sub\n",
    "    z_k = np.sum(y_sub * A, axis=0)\n",
    "    z_k_beta = z_k**beta_[kk]\n",
    "\n",
    "    JE = JE + (lambda_[kk] * (((N-1)*a_[kk])**beta_[kk])/N) * np.sum(z_k_beta)\n"
   ]
  },
  {
   "cell_type": "code",
   "execution_count": 71,
   "metadata": {},
   "outputs": [],
   "source": [
    "JE=0"
   ]
  },
  {
   "cell_type": "code",
   "execution_count": 76,
   "metadata": {},
   "outputs": [
    {
     "data": {
      "text/plain": [
       "104.99877733528967"
      ]
     },
     "execution_count": 76,
     "metadata": {},
     "output_type": "execute_result"
    }
   ],
   "source": [
    "JE + (lambda_[kk] * (((N-1)*a_[kk])**beta_[kk])/N) * np.sum(z_k_beta)"
   ]
  },
  {
   "cell_type": "code",
   "execution_count": null,
   "metadata": {},
   "outputs": [],
   "source": []
  }
 ],
 "metadata": {
  "kernelspec": {
   "display_name": "Python 3",
   "language": "python",
   "name": "python3"
  },
  "language_info": {
   "codemirror_mode": {
    "name": "ipython",
    "version": 3
   },
   "file_extension": ".py",
   "mimetype": "text/x-python",
   "name": "python",
   "nbconvert_exporter": "python",
   "pygments_lexer": "ipython3",
   "version": "3.7.8"
  }
 },
 "nbformat": 4,
 "nbformat_minor": 4
}
